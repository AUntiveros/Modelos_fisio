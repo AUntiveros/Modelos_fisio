{
 "cells": [
  {
   "cell_type": "code",
   "execution_count": 14,
   "id": "e7f6cdee",
   "metadata": {},
   "outputs": [
    {
     "name": "stdout",
     "output_type": "stream",
     "text": [
      "['UBIGEO', 'CCDD', 'CCPP', 'CCDI', 'DEPARTAMEN', 'PROVINCIA', 'DISTRITO', 'OBJECTID', 'ESRI_OID', 'geometry']\n"
     ]
    },
    {
     "name": "stderr",
     "output_type": "stream",
     "text": [
      "C:\\Users\\Alvaro\\AppData\\Local\\Temp\\ipykernel_22920\\2239252734.py:10: UserWarning: Geometry is in a geographic CRS. Results from 'centroid' are likely incorrect. Use 'GeoSeries.to_crs()' to re-project geometries to a projected CRS before this operation.\n",
      "\n",
      "  distritos[\"centroid\"] = distritos.geometry.centroid\n",
      "C:\\Users\\Alvaro\\AppData\\Local\\Temp\\ipykernel_22920\\2239252734.py:11: UserWarning: Geometry is in a geographic CRS. Results from 'centroid' are likely incorrect. Use 'GeoSeries.to_crs()' to re-project geometries to a projected CRS before this operation.\n",
      "\n",
      "  distritos[\"lat\"] = distritos.centroid.y\n",
      "C:\\Users\\Alvaro\\AppData\\Local\\Temp\\ipykernel_22920\\2239252734.py:12: UserWarning: Geometry is in a geographic CRS. Results from 'centroid' are likely incorrect. Use 'GeoSeries.to_crs()' to re-project geometries to a projected CRS before this operation.\n",
      "\n",
      "  distritos[\"lon\"] = distritos.centroid.x\n"
     ]
    }
   ],
   "source": [
    "import geopandas as gpd\n",
    "\n",
    "# Cargar shapefile distrital\n",
    "distritos = gpd.read_file(\"Ubigeos_dataset\\Distrital INEI 2023 geogpsperu SuyoPomalia\\Distrital INEI 2023 geogpsperu SuyoPomalia.shp\")\n",
    "\n",
    "# Revisar columnas disponibles\n",
    "print(distritos.columns.tolist())\n",
    "\n",
    "# Calcular centroides\n",
    "distritos[\"centroid\"] = distritos.geometry.centroid\n",
    "distritos[\"lat\"] = distritos.centroid.y\n",
    "distritos[\"lon\"] = distritos.centroid.x\n",
    "\n",
    "# Guardar CSV con ubigeo y coordenadas\n",
    "distritos[[\"UBIGEO\", \"DEPARTAMEN\", \"PROVINCIA\", \"DISTRITO\", \"lat\", \"lon\"]].to_csv(\n",
    "    \"Ubigeos_dataset\\distritos_centroides.csv\", index=False\n",
    ")\n"
   ]
  }
 ],
 "metadata": {
  "kernelspec": {
   "display_name": "env_modelos_fisio",
   "language": "python",
   "name": "python3"
  },
  "language_info": {
   "codemirror_mode": {
    "name": "ipython",
    "version": 3
   },
   "file_extension": ".py",
   "mimetype": "text/x-python",
   "name": "python",
   "nbconvert_exporter": "python",
   "pygments_lexer": "ipython3",
   "version": "3.10.18"
  }
 },
 "nbformat": 4,
 "nbformat_minor": 5
}
